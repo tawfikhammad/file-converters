{
 "cells": [
  {
   "cell_type": "code",
   "execution_count": 3,
   "id": "c03496f9",
   "metadata": {},
   "outputs": [],
   "source": [
    "from pdf2image import convert_from_path\n",
    "import time"
   ]
  },
  {
   "cell_type": "code",
   "execution_count": 4,
   "id": "9ac5c52e",
   "metadata": {},
   "outputs": [
    {
     "name": "stdout",
     "output_type": "stream",
     "text": [
      "Conversion completed in 3.24 seconds.\n"
     ]
    }
   ],
   "source": [
    "start_time = time.time()\n",
    "images = convert_from_path('decoment.pdf', 500)\n",
    "for i, image in enumerate(images):\n",
    "    image.save(f\"page_{i+1}.jpg\", 'JPEG')\n",
    "end_time = time.time()\n",
    "print(f\"Conversion completed in {round(end_time - start_time, 2)} seconds.\")"
   ]
  }
 ],
 "metadata": {
  "kernelspec": {
   "display_name": "fileconverter",
   "language": "python",
   "name": "python3"
  },
  "language_info": {
   "codemirror_mode": {
    "name": "ipython",
    "version": 3
   },
   "file_extension": ".py",
   "mimetype": "text/x-python",
   "name": "python",
   "nbconvert_exporter": "python",
   "pygments_lexer": "ipython3",
   "version": "3.10.11"
  }
 },
 "nbformat": 4,
 "nbformat_minor": 5
}
