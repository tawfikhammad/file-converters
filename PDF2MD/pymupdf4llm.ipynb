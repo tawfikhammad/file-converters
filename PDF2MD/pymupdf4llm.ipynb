{
 "cells": [
  {
   "cell_type": "code",
   "execution_count": 1,
   "id": "b1e17842",
   "metadata": {},
   "outputs": [],
   "source": [
    "import pymupdf4llm"
   ]
  },
  {
   "cell_type": "code",
   "execution_count": 2,
   "id": "e1eb1e50",
   "metadata": {},
   "outputs": [],
   "source": [
    "md_text = pymupdf4llm.to_markdown(\"TransformerXL.pdf\", ignore_images=True, ignore_graphics=True, ignore_alpha=True)"
   ]
  },
  {
   "cell_type": "code",
   "execution_count": 3,
   "id": "996ea9a2",
   "metadata": {},
   "outputs": [],
   "source": [
    "with open(\"pymupdf4llm_TransformerXL.md\", \"w\", encoding=\"utf-8\") as f:\n",
    "    f.write(md_text)"
   ]
  }
 ],
 "metadata": {
  "kernelspec": {
   "display_name": "fileconverter",
   "language": "python",
   "name": "python3"
  },
  "language_info": {
   "codemirror_mode": {
    "name": "ipython",
    "version": 3
   },
   "file_extension": ".py",
   "mimetype": "text/x-python",
   "name": "python",
   "nbconvert_exporter": "python",
   "pygments_lexer": "ipython3",
   "version": "3.10.11"
  }
 },
 "nbformat": 4,
 "nbformat_minor": 5
}
