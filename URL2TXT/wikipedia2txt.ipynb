{
 "cells": [
  {
   "cell_type": "code",
   "execution_count": null,
   "id": "fbf60085",
   "metadata": {},
   "outputs": [],
   "source": [
    "import urllib\n",
    "import bs4 as bs"
   ]
  },
  {
   "cell_type": "code",
   "execution_count": 9,
   "id": "97715103",
   "metadata": {},
   "outputs": [],
   "source": [
    "def wiki_text(url):\n",
    "    headers = {'User-Agent': 'Mozilla/5.0'}\n",
    "    req = urllib.request.Request(url, headers=headers)\n",
    "    scrap_data = urllib.request.urlopen(req)\n",
    "    article = scrap_data.read()\n",
    "    parsed_article = bs.BeautifulSoup(article,'lxml')\n",
    "    \n",
    "    paragraphs = parsed_article.find_all('p')\n",
    "    article_text = \"\"\n",
    "    \n",
    "    for p in paragraphs:\n",
    "        article_text += p.text\n",
    "    \n",
    "    return article_text\n"
   ]
  },
  {
   "cell_type": "code",
   "execution_count": 10,
   "id": "0f8ba4b1",
   "metadata": {},
   "outputs": [],
   "source": [
    "text = wiki_text(\"https://en.wikipedia.org/wiki/Agentic_AI\")"
   ]
  },
  {
   "cell_type": "code",
   "execution_count": 11,
   "id": "00cbb960",
   "metadata": {},
   "outputs": [],
   "source": [
    "with open(\"output.txt\", \"w\", encoding=\"utf-8\") as text_file:\n",
    "    text_file.write(text)"
   ]
  }
 ],
 "metadata": {
  "kernelspec": {
   "display_name": "fileconverter",
   "language": "python",
   "name": "python3"
  },
  "language_info": {
   "codemirror_mode": {
    "name": "ipython",
    "version": 3
   },
   "file_extension": ".py",
   "mimetype": "text/x-python",
   "name": "python",
   "nbconvert_exporter": "python",
   "pygments_lexer": "ipython3",
   "version": "3.10.11"
  }
 },
 "nbformat": 4,
 "nbformat_minor": 5
}
