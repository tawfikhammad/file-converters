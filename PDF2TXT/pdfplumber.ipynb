{
 "cells": [
  {
   "cell_type": "code",
   "execution_count": 6,
   "id": "c5618c52",
   "metadata": {},
   "outputs": [],
   "source": [
    "import pdfplumber\n",
    "import time"
   ]
  },
  {
   "cell_type": "code",
   "execution_count": 9,
   "id": "4a323a33",
   "metadata": {},
   "outputs": [],
   "source": [
    "def pdf2txt(path):\n",
    "    with pdfplumber.open(path) as pdf:\n",
    "        text = \"\"\n",
    "        metadata = pdf.metadata\n",
    "        for page in pdf.pages:\n",
    "            text += page.extract_text()\n",
    "    return text, metadata"
   ]
  },
  {
   "cell_type": "code",
   "execution_count": 11,
   "id": "504a6c1d",
   "metadata": {},
   "outputs": [
    {
     "name": "stdout",
     "output_type": "stream",
     "text": [
      "Extraction completed in 0.44 seconds.\n"
     ]
    }
   ],
   "source": [
    "start_time = time.time()\n",
    "text, metadata = pdf2txt('pdfdecoment.pdf')\n",
    "end_time = time.time()\n",
    "print(f\"Extraction completed in {round(end_time - start_time, 2)} seconds.\")"
   ]
  },
  {
   "cell_type": "code",
   "execution_count": 8,
   "id": "386a0d82",
   "metadata": {},
   "outputs": [],
   "source": [
    "with open(\"pdfplumber_output.txt\", \"w\", encoding=\"utf-8\") as f:\n",
    "    f.write(text)"
   ]
  },
  {
   "cell_type": "code",
   "execution_count": 12,
   "id": "278c0374",
   "metadata": {},
   "outputs": [
    {
     "data": {
      "text/plain": [
       "{'CreationDate': \"D:20161215081004-05'00'\",\n",
       " 'Creator': 'Microsoft® Word 2013',\n",
       " 'ModDate': \"D:20170516130843-04'00'\",\n",
       " 'Producer': 'Microsoft® Word 2013'}"
      ]
     },
     "execution_count": 12,
     "metadata": {},
     "output_type": "execute_result"
    }
   ],
   "source": [
    "metadata"
   ]
  },
  {
   "cell_type": "code",
   "execution_count": null,
   "id": "2ee00b90",
   "metadata": {},
   "outputs": [],
   "source": []
  }
 ],
 "metadata": {
  "kernelspec": {
   "display_name": "fileconverter",
   "language": "python",
   "name": "python3"
  },
  "language_info": {
   "codemirror_mode": {
    "name": "ipython",
    "version": 3
   },
   "file_extension": ".py",
   "mimetype": "text/x-python",
   "name": "python",
   "nbconvert_exporter": "python",
   "pygments_lexer": "ipython3",
   "version": "3.10.11"
  }
 },
 "nbformat": 4,
 "nbformat_minor": 5
}
