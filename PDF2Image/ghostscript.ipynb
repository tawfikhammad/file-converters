{
 "cells": [
  {
   "cell_type": "code",
   "execution_count": 5,
   "id": "0c071391",
   "metadata": {},
   "outputs": [],
   "source": [
    "import ghostscript\n",
    "import time"
   ]
  },
  {
   "cell_type": "code",
   "execution_count": 7,
   "id": "3c9ac0ae",
   "metadata": {},
   "outputs": [
    {
     "name": "stdout",
     "output_type": "stream",
     "text": [
      "Conversion completed in 1.52 seconds.\n"
     ]
    }
   ],
   "source": [
    "start_time = time.time()\n",
    "args = [\n",
    "    \"gs\",\n",
    "    \"-dNOPAUSE\",\n",
    "    \"-sDEVICE=png16m\",\n",
    "    \"-r300\",\n",
    "    \"-sOutputFile=page_%01d.jpg\",\n",
    "    \"decoment.pdf\"\n",
    "]\n",
    "ghostscript.Ghostscript(*args)\n",
    "end_time = time.time()\n",
    "print(f\"Conversion completed in {round(end_time - start_time, 2)} seconds.\")\n"
   ]
  }
 ],
 "metadata": {
  "kernelspec": {
   "display_name": "fileconverter",
   "language": "python",
   "name": "python3"
  },
  "language_info": {
   "codemirror_mode": {
    "name": "ipython",
    "version": 3
   },
   "file_extension": ".py",
   "mimetype": "text/x-python",
   "name": "python",
   "nbconvert_exporter": "python",
   "pygments_lexer": "ipython3",
   "version": "3.10.11"
  }
 },
 "nbformat": 4,
 "nbformat_minor": 5
}
