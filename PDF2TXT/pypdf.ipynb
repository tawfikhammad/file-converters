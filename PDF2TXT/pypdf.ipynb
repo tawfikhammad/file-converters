{
 "cells": [
  {
   "cell_type": "code",
   "execution_count": 4,
   "id": "960efb7a",
   "metadata": {},
   "outputs": [],
   "source": [
    "from pypdf import PdfReader\n",
    "import time"
   ]
  },
  {
   "cell_type": "code",
   "execution_count": 2,
   "id": "df974cb9",
   "metadata": {},
   "outputs": [],
   "source": [
    "def pdf2txt(path):\n",
    "    reader = PdfReader(path)\n",
    "    number_of_pages = len(reader.pages)\n",
    "    text = \"\"\n",
    "    for i in range(number_of_pages):\n",
    "        page = reader.pages[i]\n",
    "        text += page.extract_text()\n",
    "    return text\n"
   ]
  },
  {
   "cell_type": "code",
   "execution_count": 5,
   "id": "e97b9e63",
   "metadata": {},
   "outputs": [
    {
     "name": "stdout",
     "output_type": "stream",
     "text": [
      "Extraction completed in 0.13 seconds.\n"
     ]
    }
   ],
   "source": [
    "start_time = time.time()\n",
    "text = pdf2txt('pdfdecoment.pdf')\n",
    "end_time = time.time()\n",
    "print(f\"Extraction completed in {round(end_time - start_time, 2)} seconds.\")"
   ]
  },
  {
   "cell_type": "code",
   "execution_count": 6,
   "id": "4030dfb2",
   "metadata": {},
   "outputs": [],
   "source": [
    "with open(\"pypdf.txt\", \"w\", encoding=\"utf-8\") as f:\n",
    "    f.write(text)"
   ]
  }
 ],
 "metadata": {
  "kernelspec": {
   "display_name": "fileconverter",
   "language": "python",
   "name": "python3"
  },
  "language_info": {
   "codemirror_mode": {
    "name": "ipython",
    "version": 3
   },
   "file_extension": ".py",
   "mimetype": "text/x-python",
   "name": "python",
   "nbconvert_exporter": "python",
   "pygments_lexer": "ipython3",
   "version": "3.10.11"
  }
 },
 "nbformat": 4,
 "nbformat_minor": 5
}
