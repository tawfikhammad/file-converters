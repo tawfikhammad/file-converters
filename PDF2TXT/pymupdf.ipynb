{
 "cells": [
  {
   "cell_type": "code",
   "execution_count": 5,
   "id": "98734895",
   "metadata": {},
   "outputs": [],
   "source": [
    "import pymupdf\n",
    "import time "
   ]
  },
  {
   "cell_type": "code",
   "execution_count": 3,
   "id": "ab45928b",
   "metadata": {},
   "outputs": [],
   "source": [
    "def pdf2txt(file_path):\n",
    "    doc = pymupdf.open(file_path) \n",
    "    text = \"\"\n",
    "    for page in doc: \n",
    "        text += page.get_text()\n",
    "    return text\n"
   ]
  },
  {
   "cell_type": "code",
   "execution_count": 6,
   "id": "db0a7bb4",
   "metadata": {},
   "outputs": [
    {
     "name": "stdout",
     "output_type": "stream",
     "text": [
      "Extraction completed in 0.07 seconds.\n"
     ]
    }
   ],
   "source": [
    "start_time = time.time()\n",
    "text = pdf2txt('pdfdecoment.pdf')   \n",
    "end_time = time.time()\n",
    "print(f\"Extraction completed in {round(end_time - start_time, 2)} seconds.\")"
   ]
  },
  {
   "cell_type": "code",
   "execution_count": 7,
   "id": "2ae7a14c",
   "metadata": {},
   "outputs": [],
   "source": [
    "with open(\"pymupdf.txt\", \"w\", encoding=\"utf-8\") as f:\n",
    "    f.write(text)"
   ]
  }
 ],
 "metadata": {
  "kernelspec": {
   "display_name": "fileconverter",
   "language": "python",
   "name": "python3"
  },
  "language_info": {
   "codemirror_mode": {
    "name": "ipython",
    "version": 3
   },
   "file_extension": ".py",
   "mimetype": "text/x-python",
   "name": "python",
   "nbconvert_exporter": "python",
   "pygments_lexer": "ipython3",
   "version": "3.10.11"
  }
 },
 "nbformat": 4,
 "nbformat_minor": 5
}
