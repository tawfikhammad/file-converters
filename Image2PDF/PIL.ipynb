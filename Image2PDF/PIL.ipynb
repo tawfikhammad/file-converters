{
 "cells": [
  {
   "cell_type": "code",
   "execution_count": 1,
   "id": "bfa870cf",
   "metadata": {},
   "outputs": [],
   "source": [
    "from PIL import Image"
   ]
  },
  {
   "cell_type": "code",
   "execution_count": 2,
   "id": "1cf558e5",
   "metadata": {},
   "outputs": [],
   "source": [
    "def images_to_pdf(image_paths, output_pdf):\n",
    "    images = []\n",
    "    \n",
    "    for image_path in image_paths:\n",
    "        image = Image.open(image_path)\n",
    "        \n",
    "        # Convert the image to RGB (if it's not already)\n",
    "        if image.mode in (\"RGBA\", \"P\"):\n",
    "            image = image.convert(\"RGB\")\n",
    "        \n",
    "        images.append(image)\n",
    "\n",
    "    images[0].save(output_pdf, \"PDF\", resolution=100.0, save_all=True, append_images=images[1:])\n"
   ]
  },
  {
   "cell_type": "code",
   "execution_count": 3,
   "id": "c3ead1b2",
   "metadata": {},
   "outputs": [],
   "source": [
    "images_paths =['AlexNet Arch.png', 'leNet-5 Arch.png', 'VGG Arch.png', 'VGG16-19.png']\n",
    "output_pdf = \"pretrained models arch.pdf\"\n",
    "images_to_pdf(images_paths, output_pdf)"
   ]
  }
 ],
 "metadata": {
  "kernelspec": {
   "display_name": "fileconverter",
   "language": "python",
   "name": "python3"
  },
  "language_info": {
   "codemirror_mode": {
    "name": "ipython",
    "version": 3
   },
   "file_extension": ".py",
   "mimetype": "text/x-python",
   "name": "python",
   "nbconvert_exporter": "python",
   "pygments_lexer": "ipython3",
   "version": "3.10.11"
  }
 },
 "nbformat": 4,
 "nbformat_minor": 5
}
