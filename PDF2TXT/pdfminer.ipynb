{
 "cells": [
  {
   "cell_type": "code",
   "execution_count": 5,
   "id": "56deed74",
   "metadata": {},
   "outputs": [],
   "source": [
    "from pdfminer.pdfinterp import PDFResourceManager, PDFPageInterpreter\n",
    "from pdfminer.converter import TextConverter\n",
    "from pdfminer.layout import LAParams\n",
    "from pdfminer.pdfpage import PDFPage\n",
    "from io import StringIO\n",
    "import time"
   ]
  },
  {
   "cell_type": "markdown",
   "id": "fb84a1d1",
   "metadata": {},
   "source": [
    "**For more customization and flexability.**\n",
    "\n",
    "* `PDFResourceManager()` → manages shared resources (fonts, images, etc.).\n",
    "* `TextConverter()` → converts PDF layout objects into text.\n",
    "* `PDFPageInterpreter()` → processes page by page.\n",
    "\n",
    "Then loop over all pages with `PDFPage.get_pages(...)`."
   ]
  },
  {
   "cell_type": "code",
   "execution_count": 2,
   "id": "38af9f5f",
   "metadata": {},
   "outputs": [],
   "source": [
    "def pdf2txt(path):\n",
    "    rsrcmgr = PDFResourceManager()\n",
    "    retstr = StringIO()\n",
    "    with open(path, 'rb') as fp:\n",
    "        device = TextConverter(rsrcmgr, retstr, laparams=LAParams())\n",
    "        interpreter = PDFPageInterpreter(rsrcmgr, device)\n",
    "        for page in PDFPage.get_pages(fp, maxpages=0, caching=True, check_extractable=True):\n",
    "            interpreter.process_page(page)\n",
    "\n",
    "        text = retstr.getvalue()\n",
    "\n",
    "        device.close()\n",
    "        retstr.close()\n",
    "    return text"
   ]
  },
  {
   "cell_type": "code",
   "execution_count": 7,
   "id": "3543460e",
   "metadata": {},
   "outputs": [
    {
     "name": "stdout",
     "output_type": "stream",
     "text": [
      "Extraction completed in 0.26 seconds.\n"
     ]
    }
   ],
   "source": [
    "start_time = time.time()\n",
    "extracted_text = pdf2txt('pdfdecoment.pdf')\n",
    "end_time = time.time()\n",
    "print(f\"Extraction completed in {round(end_time - start_time, 2)} seconds.\")"
   ]
  },
  {
   "cell_type": "markdown",
   "id": "1ebf7be9",
   "metadata": {},
   "source": [
    "**For simplicity, low flexability and customization.**\n",
    "\n",
    "It automatically opens the file, creates `PDFResourceManager`, `TextConverter`, `Interpreter` and loops through all pages."
   ]
  },
  {
   "cell_type": "code",
   "execution_count": null,
   "id": "825a5581",
   "metadata": {},
   "outputs": [
    {
     "name": "stdout",
     "output_type": "stream",
     "text": [
      "Extraction completed in 0.24 seconds.\n"
     ]
    }
   ],
   "source": [
    "from pdfminer.high_level import extract_text\n",
    "\n",
    "start_time= time.time()\n",
    "text = extract_text('pdfdecoment.pdf')\n",
    "end_time = time.time()\n",
    "print(f\"Extraction completed in {round(end_time - start_time, 2)} seconds.\")\n"
   ]
  },
  {
   "cell_type": "code",
   "execution_count": 9,
   "id": "6e0caa58",
   "metadata": {},
   "outputs": [],
   "source": [
    "with open(\"pdfminer_output.text\", \"w\", encoding=\"utf-8\") as f:\n",
    "    f.write(text)"
   ]
  }
 ],
 "metadata": {
  "kernelspec": {
   "display_name": "fileconverter",
   "language": "python",
   "name": "python3"
  },
  "language_info": {
   "codemirror_mode": {
    "name": "ipython",
    "version": 3
   },
   "file_extension": ".py",
   "mimetype": "text/x-python",
   "name": "python",
   "nbconvert_exporter": "python",
   "pygments_lexer": "ipython3",
   "version": "3.10.11"
  }
 },
 "nbformat": 4,
 "nbformat_minor": 5
}
