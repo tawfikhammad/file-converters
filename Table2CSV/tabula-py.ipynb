{
 "cells": [
  {
   "cell_type": "code",
   "execution_count": 3,
   "metadata": {},
   "outputs": [],
   "source": [
    "import tabula\n"
   ]
  },
  {
   "cell_type": "code",
   "execution_count": 4,
   "metadata": {},
   "outputs": [
    {
     "name": "stderr",
     "output_type": "stream",
     "text": [
      "Failed to import jpype dependencies. Fallback to subprocess.\n",
      "No module named 'jpype'\n",
      "'pages' argument isn't specified.Will extract only from page 1 by default.\n"
     ]
    }
   ],
   "source": [
    "pdf_path = \"foo.pdf\"\n",
    "dfs = tabula.read_pdf(pdf_path, stream=True)"
   ]
  },
  {
   "cell_type": "code",
   "execution_count": 5,
   "metadata": {},
   "outputs": [
    {
     "name": "stdout",
     "output_type": "stream",
     "text": [
      "1\n"
     ]
    },
    {
     "data": {
      "application/vnd.microsoft.datawrangler.viewer.v0+json": {
       "columns": [
        {
         "name": "index",
         "rawType": "int64",
         "type": "integer"
        },
        {
         "name": "Unnamed: 0",
         "rawType": "object",
         "type": "unknown"
        },
        {
         "name": "Unnamed: 1",
         "rawType": "object",
         "type": "unknown"
        },
        {
         "name": "Unnamed: 2",
         "rawType": "object",
         "type": "unknown"
        },
        {
         "name": "Unnamed: 3",
         "rawType": "object",
         "type": "unknown"
        },
        {
         "name": "Percent Fuel Savings",
         "rawType": "object",
         "type": "unknown"
        },
        {
         "name": "Unnamed: 4",
         "rawType": "object",
         "type": "unknown"
        }
       ],
       "ref": "6d44a66e-f5c5-427e-ac31-81c1e8cd02ac",
       "rows": [
        [
         "0",
         "Cycle",
         "KI",
         "Distance",
         null,
         null,
         null
        ],
        [
         "1",
         "Name",
         "(1/km)",
         "(mi)",
         "Improved",
         "Decreased Eliminate",
         "Decreased"
        ],
        [
         "2",
         null,
         null,
         null,
         "Speed",
         "Accel Stops",
         "Idle"
        ],
        [
         "3",
         "2012_2",
         "3.30",
         "1.3",
         "5.9%",
         "9.5% 29.2%",
         "17.4%"
        ],
        [
         "4",
         "2145_1",
         "0.68",
         "11.2",
         "2.4%",
         "0.1% 9.5%",
         "2.7%"
        ],
        [
         "5",
         "4234_1",
         "0.59",
         "58.7",
         "8.5%",
         "1.3% 8.5%",
         "3.3%"
        ],
        [
         "6",
         "2032_2",
         "0.17",
         "57.8",
         "21.7%",
         "0.3% 2.7%",
         "1.2%"
        ],
        [
         "7",
         "4171_1",
         "0.07",
         "173.9",
         "58.1%",
         "1.6% 2.1%",
         "0.5%"
        ]
       ],
       "shape": {
        "columns": 6,
        "rows": 8
       }
      },
      "text/html": [
       "<div>\n",
       "<style scoped>\n",
       "    .dataframe tbody tr th:only-of-type {\n",
       "        vertical-align: middle;\n",
       "    }\n",
       "\n",
       "    .dataframe tbody tr th {\n",
       "        vertical-align: top;\n",
       "    }\n",
       "\n",
       "    .dataframe thead th {\n",
       "        text-align: right;\n",
       "    }\n",
       "</style>\n",
       "<table border=\"1\" class=\"dataframe\">\n",
       "  <thead>\n",
       "    <tr style=\"text-align: right;\">\n",
       "      <th></th>\n",
       "      <th>Unnamed: 0</th>\n",
       "      <th>Unnamed: 1</th>\n",
       "      <th>Unnamed: 2</th>\n",
       "      <th>Unnamed: 3</th>\n",
       "      <th>Percent Fuel Savings</th>\n",
       "      <th>Unnamed: 4</th>\n",
       "    </tr>\n",
       "  </thead>\n",
       "  <tbody>\n",
       "    <tr>\n",
       "      <th>0</th>\n",
       "      <td>Cycle</td>\n",
       "      <td>KI</td>\n",
       "      <td>Distance</td>\n",
       "      <td>NaN</td>\n",
       "      <td>NaN</td>\n",
       "      <td>NaN</td>\n",
       "    </tr>\n",
       "    <tr>\n",
       "      <th>1</th>\n",
       "      <td>Name</td>\n",
       "      <td>(1/km)</td>\n",
       "      <td>(mi)</td>\n",
       "      <td>Improved</td>\n",
       "      <td>Decreased Eliminate</td>\n",
       "      <td>Decreased</td>\n",
       "    </tr>\n",
       "    <tr>\n",
       "      <th>2</th>\n",
       "      <td>NaN</td>\n",
       "      <td>NaN</td>\n",
       "      <td>NaN</td>\n",
       "      <td>Speed</td>\n",
       "      <td>Accel Stops</td>\n",
       "      <td>Idle</td>\n",
       "    </tr>\n",
       "    <tr>\n",
       "      <th>3</th>\n",
       "      <td>2012_2</td>\n",
       "      <td>3.30</td>\n",
       "      <td>1.3</td>\n",
       "      <td>5.9%</td>\n",
       "      <td>9.5% 29.2%</td>\n",
       "      <td>17.4%</td>\n",
       "    </tr>\n",
       "    <tr>\n",
       "      <th>4</th>\n",
       "      <td>2145_1</td>\n",
       "      <td>0.68</td>\n",
       "      <td>11.2</td>\n",
       "      <td>2.4%</td>\n",
       "      <td>0.1% 9.5%</td>\n",
       "      <td>2.7%</td>\n",
       "    </tr>\n",
       "    <tr>\n",
       "      <th>5</th>\n",
       "      <td>4234_1</td>\n",
       "      <td>0.59</td>\n",
       "      <td>58.7</td>\n",
       "      <td>8.5%</td>\n",
       "      <td>1.3% 8.5%</td>\n",
       "      <td>3.3%</td>\n",
       "    </tr>\n",
       "    <tr>\n",
       "      <th>6</th>\n",
       "      <td>2032_2</td>\n",
       "      <td>0.17</td>\n",
       "      <td>57.8</td>\n",
       "      <td>21.7%</td>\n",
       "      <td>0.3% 2.7%</td>\n",
       "      <td>1.2%</td>\n",
       "    </tr>\n",
       "    <tr>\n",
       "      <th>7</th>\n",
       "      <td>4171_1</td>\n",
       "      <td>0.07</td>\n",
       "      <td>173.9</td>\n",
       "      <td>58.1%</td>\n",
       "      <td>1.6% 2.1%</td>\n",
       "      <td>0.5%</td>\n",
       "    </tr>\n",
       "  </tbody>\n",
       "</table>\n",
       "</div>"
      ],
      "text/plain": [
       "  Unnamed: 0 Unnamed: 1 Unnamed: 2 Unnamed: 3 Percent Fuel Savings Unnamed: 4\n",
       "0      Cycle         KI   Distance        NaN                  NaN        NaN\n",
       "1       Name     (1/km)       (mi)   Improved  Decreased Eliminate  Decreased\n",
       "2        NaN        NaN        NaN      Speed          Accel Stops       Idle\n",
       "3     2012_2       3.30        1.3       5.9%           9.5% 29.2%      17.4%\n",
       "4     2145_1       0.68       11.2       2.4%            0.1% 9.5%       2.7%\n",
       "5     4234_1       0.59       58.7       8.5%            1.3% 8.5%       3.3%\n",
       "6     2032_2       0.17       57.8      21.7%            0.3% 2.7%       1.2%\n",
       "7     4171_1       0.07      173.9      58.1%            1.6% 2.1%       0.5%"
      ]
     },
     "execution_count": 5,
     "metadata": {},
     "output_type": "execute_result"
    }
   ],
   "source": [
    "print(len(dfs))\n",
    "dfs[0]"
   ]
  },
  {
   "cell_type": "code",
   "execution_count": 7,
   "metadata": {},
   "outputs": [
    {
     "name": "stderr",
     "output_type": "stream",
     "text": [
      "'pages' argument isn't specified.Will extract only from page 1 by default.\n"
     ]
    }
   ],
   "source": [
    "tabula.convert_into(pdf_path, \"tabula_table.csv\", output_format=\"csv\", stream=True)"
   ]
  },
  {
   "cell_type": "code",
   "execution_count": 9,
   "metadata": {},
   "outputs": [
    {
     "data": {
      "application/vnd.microsoft.datawrangler.viewer.v0+json": {
       "columns": [
        {
         "name": "index",
         "rawType": "int64",
         "type": "integer"
        },
        {
         "name": "Unnamed: 0",
         "rawType": "object",
         "type": "unknown"
        },
        {
         "name": "Unnamed: 1",
         "rawType": "object",
         "type": "unknown"
        },
        {
         "name": "Unnamed: 2",
         "rawType": "object",
         "type": "unknown"
        },
        {
         "name": "Unnamed: 3",
         "rawType": "object",
         "type": "unknown"
        },
        {
         "name": "Percent Fuel Savings",
         "rawType": "object",
         "type": "unknown"
        },
        {
         "name": "Unnamed: 5",
         "rawType": "object",
         "type": "unknown"
        }
       ],
       "ref": "697c8db8-384e-4a33-9b02-98da92e96010",
       "rows": [
        [
         "0",
         "Cycle",
         "KI",
         "Distance",
         null,
         null,
         null
        ],
        [
         "1",
         "Name",
         "(1/km)",
         "(mi)",
         "Improved",
         "Decreased Eliminate",
         "Decreased"
        ],
        [
         "2",
         null,
         null,
         null,
         "Speed",
         "Accel Stops",
         "Idle"
        ],
        [
         "3",
         "2012_2",
         "3.30",
         "1.3",
         "5.9%",
         "9.5% 29.2%",
         "17.4%"
        ],
        [
         "4",
         "2145_1",
         "0.68",
         "11.2",
         "2.4%",
         "0.1% 9.5%",
         "2.7%"
        ],
        [
         "5",
         "4234_1",
         "0.59",
         "58.7",
         "8.5%",
         "1.3% 8.5%",
         "3.3%"
        ],
        [
         "6",
         "2032_2",
         "0.17",
         "57.8",
         "21.7%",
         "0.3% 2.7%",
         "1.2%"
        ],
        [
         "7",
         "4171_1",
         "0.07",
         "173.9",
         "58.1%",
         "1.6% 2.1%",
         "0.5%"
        ]
       ],
       "shape": {
        "columns": 6,
        "rows": 8
       }
      },
      "text/html": [
       "<div>\n",
       "<style scoped>\n",
       "    .dataframe tbody tr th:only-of-type {\n",
       "        vertical-align: middle;\n",
       "    }\n",
       "\n",
       "    .dataframe tbody tr th {\n",
       "        vertical-align: top;\n",
       "    }\n",
       "\n",
       "    .dataframe thead th {\n",
       "        text-align: right;\n",
       "    }\n",
       "</style>\n",
       "<table border=\"1\" class=\"dataframe\">\n",
       "  <thead>\n",
       "    <tr style=\"text-align: right;\">\n",
       "      <th></th>\n",
       "      <th>Unnamed: 0</th>\n",
       "      <th>Unnamed: 1</th>\n",
       "      <th>Unnamed: 2</th>\n",
       "      <th>Unnamed: 3</th>\n",
       "      <th>Percent Fuel Savings</th>\n",
       "      <th>Unnamed: 5</th>\n",
       "    </tr>\n",
       "  </thead>\n",
       "  <tbody>\n",
       "    <tr>\n",
       "      <th>0</th>\n",
       "      <td>Cycle</td>\n",
       "      <td>KI</td>\n",
       "      <td>Distance</td>\n",
       "      <td>NaN</td>\n",
       "      <td>NaN</td>\n",
       "      <td>NaN</td>\n",
       "    </tr>\n",
       "    <tr>\n",
       "      <th>1</th>\n",
       "      <td>Name</td>\n",
       "      <td>(1/km)</td>\n",
       "      <td>(mi)</td>\n",
       "      <td>Improved</td>\n",
       "      <td>Decreased Eliminate</td>\n",
       "      <td>Decreased</td>\n",
       "    </tr>\n",
       "    <tr>\n",
       "      <th>2</th>\n",
       "      <td>NaN</td>\n",
       "      <td>NaN</td>\n",
       "      <td>NaN</td>\n",
       "      <td>Speed</td>\n",
       "      <td>Accel Stops</td>\n",
       "      <td>Idle</td>\n",
       "    </tr>\n",
       "    <tr>\n",
       "      <th>3</th>\n",
       "      <td>2012_2</td>\n",
       "      <td>3.30</td>\n",
       "      <td>1.3</td>\n",
       "      <td>5.9%</td>\n",
       "      <td>9.5% 29.2%</td>\n",
       "      <td>17.4%</td>\n",
       "    </tr>\n",
       "    <tr>\n",
       "      <th>4</th>\n",
       "      <td>2145_1</td>\n",
       "      <td>0.68</td>\n",
       "      <td>11.2</td>\n",
       "      <td>2.4%</td>\n",
       "      <td>0.1% 9.5%</td>\n",
       "      <td>2.7%</td>\n",
       "    </tr>\n",
       "    <tr>\n",
       "      <th>5</th>\n",
       "      <td>4234_1</td>\n",
       "      <td>0.59</td>\n",
       "      <td>58.7</td>\n",
       "      <td>8.5%</td>\n",
       "      <td>1.3% 8.5%</td>\n",
       "      <td>3.3%</td>\n",
       "    </tr>\n",
       "    <tr>\n",
       "      <th>6</th>\n",
       "      <td>2032_2</td>\n",
       "      <td>0.17</td>\n",
       "      <td>57.8</td>\n",
       "      <td>21.7%</td>\n",
       "      <td>0.3% 2.7%</td>\n",
       "      <td>1.2%</td>\n",
       "    </tr>\n",
       "    <tr>\n",
       "      <th>7</th>\n",
       "      <td>4171_1</td>\n",
       "      <td>0.07</td>\n",
       "      <td>173.9</td>\n",
       "      <td>58.1%</td>\n",
       "      <td>1.6% 2.1%</td>\n",
       "      <td>0.5%</td>\n",
       "    </tr>\n",
       "  </tbody>\n",
       "</table>\n",
       "</div>"
      ],
      "text/plain": [
       "  Unnamed: 0 Unnamed: 1 Unnamed: 2 Unnamed: 3 Percent Fuel Savings Unnamed: 5\n",
       "0      Cycle         KI   Distance        NaN                  NaN        NaN\n",
       "1       Name     (1/km)       (mi)   Improved  Decreased Eliminate  Decreased\n",
       "2        NaN        NaN        NaN      Speed          Accel Stops       Idle\n",
       "3     2012_2       3.30        1.3       5.9%           9.5% 29.2%      17.4%\n",
       "4     2145_1       0.68       11.2       2.4%            0.1% 9.5%       2.7%\n",
       "5     4234_1       0.59       58.7       8.5%            1.3% 8.5%       3.3%\n",
       "6     2032_2       0.17       57.8      21.7%            0.3% 2.7%       1.2%\n",
       "7     4171_1       0.07      173.9      58.1%            1.6% 2.1%       0.5%"
      ]
     },
     "execution_count": 9,
     "metadata": {},
     "output_type": "execute_result"
    }
   ],
   "source": [
    "import pandas as pd\n",
    "df = pd.read_csv(\"tabula_table.csv\")\n",
    "df"
   ]
  }
 ],
 "metadata": {
  "kernelspec": {
   "display_name": "fileconverter",
   "language": "python",
   "name": "python3"
  },
  "language_info": {
   "codemirror_mode": {
    "name": "ipython",
    "version": 3
   },
   "file_extension": ".py",
   "mimetype": "text/x-python",
   "name": "python",
   "nbconvert_exporter": "python",
   "pygments_lexer": "ipython3",
   "version": "3.10.11"
  }
 },
 "nbformat": 4,
 "nbformat_minor": 2
}
