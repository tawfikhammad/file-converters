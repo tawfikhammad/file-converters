{
 "cells": [
  {
   "cell_type": "code",
   "execution_count": 2,
   "id": "8db30326",
   "metadata": {},
   "outputs": [],
   "source": [
    "from weasyprint import HTML"
   ]
  },
  {
   "cell_type": "code",
   "execution_count": 4,
   "id": "2ee677dd",
   "metadata": {},
   "outputs": [],
   "source": [
    "html_code = \"\"\"\n",
    "<form>\n",
    "  <label>Name: <input value=\"Tawfik\"></label><br>\n",
    "  <label>Email: <input value=\"example@test.com\"></label><br>\n",
    "  <button>Submit</button>\n",
    "</form>\n",
    "\"\"\"\n",
    "html = HTML(string=html_code).write_pdf(\n",
    "    \"test.pdf\",\n",
    "    pdf_forms=True,\n",
    "    custom_metadata=True\n",
    ")"
   ]
  },
  {
   "cell_type": "code",
   "execution_count": null,
   "id": "33540332",
   "metadata": {},
   "outputs": [],
   "source": [
    "HTML(url='https://weasyprint.org/').write_pdf(\n",
    "    'weasyprint-website.pdf'\n",
    "    )"
   ]
  },
  {
   "cell_type": "code",
   "execution_count": null,
   "id": "2da3e511",
   "metadata": {},
   "outputs": [],
   "source": []
  },
  {
   "cell_type": "code",
   "execution_count": null,
   "id": "4f6b9e0d",
   "metadata": {},
   "outputs": [],
   "source": []
  }
 ],
 "metadata": {
  "kernelspec": {
   "display_name": "fileconverter",
   "language": "python",
   "name": "python3"
  },
  "language_info": {
   "codemirror_mode": {
    "name": "ipython",
    "version": 3
   },
   "file_extension": ".py",
   "mimetype": "text/x-python",
   "name": "python",
   "nbconvert_exporter": "python",
   "pygments_lexer": "ipython3",
   "version": "3.10.11"
  }
 },
 "nbformat": 4,
 "nbformat_minor": 5
}
