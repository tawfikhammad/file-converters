{
 "cells": [
  {
   "cell_type": "code",
   "execution_count": 1,
   "id": "9f4769cf",
   "metadata": {},
   "outputs": [],
   "source": [
    "import fitz  # PyMuPDF\n",
    "import time"
   ]
  },
  {
   "cell_type": "code",
   "execution_count": 4,
   "id": "40297e9f",
   "metadata": {},
   "outputs": [
    {
     "name": "stdout",
     "output_type": "stream",
     "text": [
      "Conversion completed in 0.15 seconds.\n"
     ]
    }
   ],
   "source": [
    "start_time = time.time()\n",
    "doc = fitz.open(\"decoment.pdf\")\n",
    "for page_num in range(len(doc)):\n",
    "    page = doc[page_num]\n",
    "    pix = page.get_pixmap()\n",
    "    pix.save(f\"page_{page_num + 1}.jpg\")\n",
    "end_time = time.time()\n",
    "print(f\"Conversion completed in {round(end_time - start_time, 2)} seconds.\")"
   ]
  }
 ],
 "metadata": {
  "kernelspec": {
   "display_name": "fileconverter",
   "language": "python",
   "name": "python3"
  },
  "language_info": {
   "codemirror_mode": {
    "name": "ipython",
    "version": 3
   },
   "file_extension": ".py",
   "mimetype": "text/x-python",
   "name": "python",
   "nbconvert_exporter": "python",
   "pygments_lexer": "ipython3",
   "version": "3.10.11"
  }
 },
 "nbformat": 4,
 "nbformat_minor": 5
}
