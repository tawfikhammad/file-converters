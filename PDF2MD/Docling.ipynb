{
 "cells": [
  {
   "cell_type": "code",
   "execution_count": null,
   "metadata": {},
   "outputs": [
    {
     "name": "stderr",
     "output_type": "stream",
     "text": [
      "2025-09-23 18:15:44,115 - INFO - detected formats: [<InputFormat.PDF: 'pdf'>]\n",
      "2025-09-23 18:15:44,207 - INFO - Going to convert document batch...\n",
      "2025-09-23 18:15:44,217 - INFO - Initializing pipeline for StandardPdfPipeline with options hash e647edf348883bed75367b22fbe60347\n",
      "2025-09-23 18:15:44,242 - INFO - Accelerator device: 'cpu'\n",
      "2025-09-23 18:15:49,114 - INFO - Accelerator device: 'cpu'\n",
      "2025-09-23 18:15:51,952 - INFO - Accelerator device: 'cpu'\n",
      "2025-09-23 18:15:53,090 - INFO - Processing document TransformerXL.pdf\n",
      "c:\\Users\\tawfi\\Applications\\FileConverter\\.venv\\lib\\site-packages\\torch\\utils\\data\\dataloader.py:666: UserWarning: 'pin_memory' argument is set as true but no accelerator is found, then device pinned memory won't be used.\n",
      "  warnings.warn(warn_msg)\n",
      "c:\\Users\\tawfi\\Applications\\FileConverter\\.venv\\lib\\site-packages\\torch\\utils\\data\\dataloader.py:666: UserWarning: 'pin_memory' argument is set as true but no accelerator is found, then device pinned memory won't be used.\n",
      "  warnings.warn(warn_msg)\n",
      "c:\\Users\\tawfi\\Applications\\FileConverter\\.venv\\lib\\site-packages\\torch\\utils\\data\\dataloader.py:666: UserWarning: 'pin_memory' argument is set as true but no accelerator is found, then device pinned memory won't be used.\n",
      "  warnings.warn(warn_msg)\n",
      "c:\\Users\\tawfi\\Applications\\FileConverter\\.venv\\lib\\site-packages\\torch\\utils\\data\\dataloader.py:666: UserWarning: 'pin_memory' argument is set as true but no accelerator is found, then device pinned memory won't be used.\n",
      "  warnings.warn(warn_msg)\n",
      "2025-09-23 18:17:15,481 - INFO - Finished converting document TransformerXL.pdf in 91.45 sec.\n"
     ]
    }
   ],
   "source": [
    "from docling.document_converter import DocumentConverter\n",
    "\n",
    "source = \"TransformerXL.pdf\"  # file path or URL\n",
    "converter = DocumentConverter()\n",
    "doc = converter.convert(source).document"
   ]
  },
  {
   "cell_type": "code",
   "execution_count": 11,
   "metadata": {},
   "outputs": [],
   "source": [
    "text = doc.export_to_markdown() "
   ]
  },
  {
   "cell_type": "code",
   "execution_count": 12,
   "metadata": {},
   "outputs": [],
   "source": [
    "with open(\"Docling_TransformerXL.md\", \"w\", encoding=\"utf-8\") as f:\n",
    "    f.write(text)"
   ]
  }
 ],
 "metadata": {
  "kernelspec": {
   "display_name": "fileconverter",
   "language": "python",
   "name": "python3"
  },
  "language_info": {
   "codemirror_mode": {
    "name": "ipython",
    "version": 3
   },
   "file_extension": ".py",
   "mimetype": "text/x-python",
   "name": "python",
   "nbconvert_exporter": "python",
   "pygments_lexer": "ipython3",
   "version": "3.10.11"
  }
 },
 "nbformat": 4,
 "nbformat_minor": 2
}
